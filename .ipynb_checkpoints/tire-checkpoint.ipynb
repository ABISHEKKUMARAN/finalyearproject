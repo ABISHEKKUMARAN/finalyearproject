{
 "cells": [
  {
   "cell_type": "code",
   "execution_count": 2,
   "id": "1fb1c10e",
   "metadata": {},
   "outputs": [],
   "source": [
    "import matplotlib.pyplot as plt\n",
    "import torch\n",
    "import torchvision\n",
    "from torch import nn\n",
    "from torchvision import transforms\n",
    "from helper_functions import set_seeds"
   ]
  },
  {
   "cell_type": "code",
   "execution_count": 3,
   "id": "12e97c71",
   "metadata": {},
   "outputs": [
    {
     "data": {
      "text/plain": [
       "'cpu'"
      ]
     },
     "execution_count": 3,
     "metadata": {},
     "output_type": "execute_result"
    }
   ],
   "source": [
    "device = \"cuda\" if torch.cuda.is_available() else \"cpu\"\n",
    "device"
   ]
  },
  {
   "cell_type": "code",
   "execution_count": 6,
   "id": "0de25b1a",
   "metadata": {},
   "outputs": [],
   "source": [
    "pretrained_vit_weights = torchvision.models.ViT_B_16_Weights.DEFAULT \n",
    "\n",
    "pretrained_vit = torchvision.models.vit_b_16(weights=pretrained_vit_weights).to(device)\n",
    "\n",
    "for parameter in pretrained_vit.parameters():\n",
    "    parameter.requires_grad = False\n",
    "    \n",
    "class_names = ['Tiretread_1.5mm','Tiretread_4mm','Tiretread_6mm','Tiretread_8mm']\n",
    "\n",
    "set_seeds()\n",
    "pretrained_vit.heads = nn.Linear(in_features=768, out_features=len(class_names)).to(device)\n"
   ]
  },
  {
   "cell_type": "code",
   "execution_count": 7,
   "id": "e3feaa42",
   "metadata": {},
   "outputs": [
    {
     "data": {
      "text/plain": [
       "============================================================================================================================================\n",
       "Layer (type (var_name))                                      Input Shape          Output Shape         Param #              Trainable\n",
       "============================================================================================================================================\n",
       "VisionTransformer (VisionTransformer)                        [32, 3, 224, 224]    [32, 4]              768                  Partial\n",
       "├─Conv2d (conv_proj)                                         [32, 3, 224, 224]    [32, 768, 14, 14]    (590,592)            False\n",
       "├─Encoder (encoder)                                          [32, 197, 768]       [32, 197, 768]       151,296              False\n",
       "│    └─Dropout (dropout)                                     [32, 197, 768]       [32, 197, 768]       --                   --\n",
       "│    └─Sequential (layers)                                   [32, 197, 768]       [32, 197, 768]       --                   False\n",
       "│    │    └─EncoderBlock (encoder_layer_0)                   [32, 197, 768]       [32, 197, 768]       (7,087,872)          False\n",
       "│    │    └─EncoderBlock (encoder_layer_1)                   [32, 197, 768]       [32, 197, 768]       (7,087,872)          False\n",
       "│    │    └─EncoderBlock (encoder_layer_2)                   [32, 197, 768]       [32, 197, 768]       (7,087,872)          False\n",
       "│    │    └─EncoderBlock (encoder_layer_3)                   [32, 197, 768]       [32, 197, 768]       (7,087,872)          False\n",
       "│    │    └─EncoderBlock (encoder_layer_4)                   [32, 197, 768]       [32, 197, 768]       (7,087,872)          False\n",
       "│    │    └─EncoderBlock (encoder_layer_5)                   [32, 197, 768]       [32, 197, 768]       (7,087,872)          False\n",
       "│    │    └─EncoderBlock (encoder_layer_6)                   [32, 197, 768]       [32, 197, 768]       (7,087,872)          False\n",
       "│    │    └─EncoderBlock (encoder_layer_7)                   [32, 197, 768]       [32, 197, 768]       (7,087,872)          False\n",
       "│    │    └─EncoderBlock (encoder_layer_8)                   [32, 197, 768]       [32, 197, 768]       (7,087,872)          False\n",
       "│    │    └─EncoderBlock (encoder_layer_9)                   [32, 197, 768]       [32, 197, 768]       (7,087,872)          False\n",
       "│    │    └─EncoderBlock (encoder_layer_10)                  [32, 197, 768]       [32, 197, 768]       (7,087,872)          False\n",
       "│    │    └─EncoderBlock (encoder_layer_11)                  [32, 197, 768]       [32, 197, 768]       (7,087,872)          False\n",
       "│    └─LayerNorm (ln)                                        [32, 197, 768]       [32, 197, 768]       (1,536)              False\n",
       "├─Linear (heads)                                             [32, 768]            [32, 4]              3,076                True\n",
       "============================================================================================================================================\n",
       "Total params: 85,801,732\n",
       "Trainable params: 3,076\n",
       "Non-trainable params: 85,798,656\n",
       "Total mult-adds (Units.GIGABYTES): 5.52\n",
       "============================================================================================================================================\n",
       "Input size (MB): 19.27\n",
       "Forward/backward pass size (MB): 3330.74\n",
       "Params size (MB): 229.21\n",
       "Estimated Total Size (MB): 3579.21\n",
       "============================================================================================================================================"
      ]
     },
     "execution_count": 7,
     "metadata": {},
     "output_type": "execute_result"
    }
   ],
   "source": [
    "from torchinfo import summary\n",
    "\n",
    "summary(model=pretrained_vit, \n",
    "        input_size=(32, 3, 224, 224), \n",
    "        col_names=[\"input_size\", \"output_size\", \"num_params\", \"trainable\"],\n",
    "        col_width=20,\n",
    "        row_settings=[\"var_names\"]\n",
    ")"
   ]
  },
  {
   "cell_type": "code",
   "execution_count": 11,
   "id": "ac8cc699",
   "metadata": {},
   "outputs": [],
   "source": [
    "train_dir =r'data/train'\n",
    "test_dir =r'data/test'"
   ]
  },
  {
   "cell_type": "markdown",
   "id": "91175306",
   "metadata": {},
   "source": [
    "Remember, if you're going to use a pretrained model, it's generally important to ensure your own custom data is transformed/formatted in the same way the data the original model was trained on."
   ]
  },
  {
   "cell_type": "code",
   "execution_count": 12,
   "id": "05aa777b",
   "metadata": {},
   "outputs": [
    {
     "name": "stdout",
     "output_type": "stream",
     "text": [
      "ImageClassification(\n",
      "    crop_size=[224]\n",
      "    resize_size=[256]\n",
      "    mean=[0.485, 0.456, 0.406]\n",
      "    std=[0.229, 0.224, 0.225]\n",
      "    interpolation=InterpolationMode.BILINEAR\n",
      ")\n"
     ]
    }
   ],
   "source": [
    "pretrained_vit_transforms = pretrained_vit_weights.transforms()\n",
    "print(pretrained_vit_transforms)"
   ]
  },
  {
   "cell_type": "code",
   "execution_count": 13,
   "id": "aef808a8",
   "metadata": {},
   "outputs": [
    {
     "name": "stdout",
     "output_type": "stream",
     "text": [
      "ImageClassification(\n",
      "    crop_size=[224]\n",
      "    resize_size=[256]\n",
      "    mean=[0.485, 0.456, 0.406]\n",
      "    std=[0.229, 0.224, 0.225]\n",
      "    interpolation=InterpolationMode.BILINEAR\n",
      ")\n"
     ]
    }
   ],
   "source": [
    "pretrained_vit_transforms = pretrained_vit_weights.transforms()\n",
    "print(pretrained_vit_transforms)"
   ]
  },
  {
   "cell_type": "code",
   "execution_count": 14,
   "id": "5d49225b",
   "metadata": {},
   "outputs": [],
   "source": [
    "import os\n",
    "\n",
    "from torchvision import datasets, transforms\n",
    "from torch.utils.data import DataLoader\n",
    "\n",
    "NUM_WORKERS = os.cpu_count()\n",
    "\n",
    "def create_dataloaders(\n",
    "    train_dir: str, \n",
    "    test_dir: str, \n",
    "    transform: transforms.Compose, \n",
    "    batch_size: int, \n",
    "    num_workers: int=NUM_WORKERS\n",
    "):\n",
    "\n",
    "  train_data = datasets.ImageFolder(train_dir, transform=transform)\n",
    "  test_data = datasets.ImageFolder(test_dir, transform=transform)\n",
    "\n",
    "  class_names = train_data.classes\n",
    "\n",
    "  train_dataloader = DataLoader(\n",
    "      train_data,\n",
    "      batch_size=batch_size,\n",
    "      shuffle=True,\n",
    "      num_workers=num_workers,\n",
    "      pin_memory=True,\n",
    "  )\n",
    "  test_dataloader = DataLoader(\n",
    "      test_data,\n",
    "      batch_size=batch_size,\n",
    "      shuffle=False,\n",
    "      num_workers=num_workers,\n",
    "      pin_memory=True,\n",
    "  )\n",
    "\n",
    "  return train_dataloader, test_dataloader, class_names"
   ]
  },
  {
   "cell_type": "code",
   "execution_count": 15,
   "id": "9037c8a5",
   "metadata": {},
   "outputs": [],
   "source": [
    "train_dataloader_pretrained, test_dataloader_pretrained, class_names = create_dataloaders(train_dir=train_dir,\n",
    "                                                                                                     test_dir=test_dir,\n",
    "                                                                                                     transform=pretrained_vit_transforms,\n",
    "                                                                                                     batch_size=32) # Could increase if we had more samples, such as here: https://arxiv.org/abs/2205.01580 (there are other improvements there too...)\n"
   ]
  },
  {
   "cell_type": "code",
   "execution_count": 17,
   "id": "10c5ba74",
   "metadata": {},
   "outputs": [
    {
     "data": {
      "application/vnd.jupyter.widget-view+json": {
       "model_id": "1298f0921b294ce8a75cecc05838252e",
       "version_major": 2,
       "version_minor": 0
      },
      "text/plain": [
       "  0%|          | 0/5 [00:00<?, ?it/s]"
      ]
     },
     "metadata": {},
     "output_type": "display_data"
    },
    {
     "name": "stdout",
     "output_type": "stream",
     "text": [
      "Epoch: 1 | train_loss: 1.2117 | train_acc: 0.5075 | test_loss: 0.7954 | test_acc: 0.8028\n",
      "Epoch: 2 | train_loss: 0.6561 | train_acc: 0.8400 | test_loss: 0.4624 | test_acc: 0.8028\n",
      "Epoch: 3 | train_loss: 0.3643 | train_acc: 0.9250 | test_loss: 0.2664 | test_acc: 1.0000\n",
      "Epoch: 4 | train_loss: 0.2276 | train_acc: 0.9938 | test_loss: 0.1714 | test_acc: 1.0000\n",
      "Epoch: 5 | train_loss: 0.1604 | train_acc: 0.9938 | test_loss: 0.1219 | test_acc: 1.0000\n"
     ]
    }
   ],
   "source": [
    "from engine import engine\n",
    "\n",
    "optimizer = torch.optim.Adam(params=pretrained_vit.parameters(), \n",
    "                             lr=1e-3)\n",
    "loss_fn = torch.nn.CrossEntropyLoss()\n",
    "\n",
    "set_seeds()\n",
    "pretrained_vit_results = engine.train(model=pretrained_vit,\n",
    "                                      train_dataloader=train_dataloader_pretrained,\n",
    "                                      test_dataloader=test_dataloader_pretrained,\n",
    "                                      optimizer=optimizer,\n",
    "                                      loss_fn=loss_fn,\n",
    "                                      epochs=3,\n",
    "                                      device=device)"
   ]
  },
  {
   "cell_type": "code",
   "execution_count": 18,
   "id": "2aae16a8",
   "metadata": {},
   "outputs": [
    {
     "data": {
      "image/png": "[encoded data removed]",
      "text/plain": [
       "<Figure size 1500x700 with 2 Axes>"
      ]
     },
     "metadata": {},
     "output_type": "display_data"
    }
   ],
   "source": [
    "from helper_functions import plot_loss_curves\n",
    "\n",
    "plot_loss_curves(pretrained_vit_results) "
   ]
  },
  {
   "cell_type": "code",
   "execution_count": null,
   "id": "80d4248f",
   "metadata": {},
   "outputs": [
    {
     "name": "stdout",
     "output_type": "stream",
     "text": [
      " * Serving Flask app '__main__'\n",
      " * Debug mode: off\n"
     ]
    },
    {
     "name": "stderr",
     "output_type": "stream",
     "text": [
      "WARNING: This is a development server. Do not use it in a production deployment. Use a production WSGI server instead.\n",
      " * Running on http://127.0.0.1:900\n",
      "Press CTRL+C to quit\n",
      "127.0.0.1 - - [31/Aug/2023 17:01:42] \"GET / HTTP/1.1\" 200 -\n",
      "127.0.0.1 - - [31/Aug/2023 17:01:42] \"GET /static/bg.jpg HTTP/1.1\" 304 -\n",
      "127.0.0.1 - - [31/Aug/2023 17:01:47] \"POST /predict HTTP/1.1\" 200 -\n",
      "127.0.0.1 - - [31/Aug/2023 17:01:47] \"GET /static/uploads/ball.jpg HTTP/1.1\" 304 -\n",
      "127.0.0.1 - - [31/Aug/2023 17:01:47] \"GET /static/bg.jpg HTTP/1.1\" 304 -\n"
     ]
    },
    {
     "name": "stdout",
     "output_type": "stream",
     "text": [
      "41.23%\n"
     ]
    },
    {
     "name": "stderr",
     "output_type": "stream",
     "text": [
      "127.0.0.1 - - [31/Aug/2023 17:01:48] \"GET / HTTP/1.1\" 200 -\n",
      "127.0.0.1 - - [31/Aug/2023 17:01:48] \"GET /static/bg.jpg HTTP/1.1\" 304 -\n",
      "127.0.0.1 - - [31/Aug/2023 17:01:53] \"POST /predict HTTP/1.1\" 200 -\n",
      "127.0.0.1 - - [31/Aug/2023 17:01:53] \"GET /static/bg.jpg HTTP/1.1\" 304 -\n",
      "127.0.0.1 - - [31/Aug/2023 17:01:53] \"GET /static/uploads/gf.jpg HTTP/1.1\" 404 -\n"
     ]
    },
    {
     "name": "stdout",
     "output_type": "stream",
     "text": [
      "30.16%\n"
     ]
    },
    {
     "name": "stderr",
     "output_type": "stream",
     "text": [
      "127.0.0.1 - - [31/Aug/2023 17:01:54] \"GET / HTTP/1.1\" 200 -\n",
      "127.0.0.1 - - [31/Aug/2023 17:01:54] \"GET /static/bg.jpg HTTP/1.1\" 304 -\n",
      "127.0.0.1 - - [31/Aug/2023 17:01:58] \"POST /predict HTTP/1.1\" 200 -\n",
      "127.0.0.1 - - [31/Aug/2023 17:01:58] \"GET /static/uploads/8.jpg HTTP/1.1\" 404 -\n",
      "127.0.0.1 - - [31/Aug/2023 17:01:58] \"GET /static/bg.jpg HTTP/1.1\" 304 -\n"
     ]
    },
    {
     "name": "stdout",
     "output_type": "stream",
     "text": [
      "63.25%\n"
     ]
    },
    {
     "name": "stderr",
     "output_type": "stream",
     "text": [
      "127.0.0.1 - - [31/Aug/2023 17:01:59] \"GET / HTTP/1.1\" 200 -\n",
      "127.0.0.1 - - [31/Aug/2023 17:01:59] \"GET /static/bg.jpg HTTP/1.1\" 304 -\n",
      "127.0.0.1 - - [31/Aug/2023 17:02:03] \"POST /predict HTTP/1.1\" 200 -\n",
      "127.0.0.1 - - [31/Aug/2023 17:02:03] \"GET /static/bg.jpg HTTP/1.1\" 304 -\n",
      "127.0.0.1 - - [31/Aug/2023 17:02:03] \"GET /static/uploads/6_.jpg HTTP/1.1\" 404 -\n"
     ]
    },
    {
     "name": "stdout",
     "output_type": "stream",
     "text": [
      "45.10%\n"
     ]
    },
    {
     "name": "stderr",
     "output_type": "stream",
     "text": [
      "127.0.0.1 - - [31/Aug/2023 17:02:04] \"GET / HTTP/1.1\" 200 -\n",
      "127.0.0.1 - - [31/Aug/2023 17:02:04] \"GET /static/bg.jpg HTTP/1.1\" 304 -\n",
      "127.0.0.1 - - [31/Aug/2023 17:02:08] \"POST /predict HTTP/1.1\" 200 -\n",
      "127.0.0.1 - - [31/Aug/2023 17:02:08] \"GET /static/bg.jpg HTTP/1.1\" 304 -\n",
      "127.0.0.1 - - [31/Aug/2023 17:02:08] \"GET /static/uploads/4.jpg HTTP/1.1\" 200 -\n"
     ]
    },
    {
     "name": "stdout",
     "output_type": "stream",
     "text": [
      "96.49%\n"
     ]
    },
    {
     "name": "stderr",
     "output_type": "stream",
     "text": [
      "127.0.0.1 - - [31/Aug/2023 17:02:09] \"GET / HTTP/1.1\" 200 -\n",
      "127.0.0.1 - - [31/Aug/2023 17:02:09] \"GET /static/bg.jpg HTTP/1.1\" 304 -\n",
      "127.0.0.1 - - [31/Aug/2023 17:02:13] \"POST /predict HTTP/1.1\" 200 -\n",
      "127.0.0.1 - - [31/Aug/2023 17:02:13] \"GET /static/bg.jpg HTTP/1.1\" 304 -\n",
      "127.0.0.1 - - [31/Aug/2023 17:02:13] \"GET /static/uploads/3.jpg HTTP/1.1\" 404 -\n"
     ]
    },
    {
     "name": "stdout",
     "output_type": "stream",
     "text": [
      "61.06%\n"
     ]
    },
    {
     "name": "stderr",
     "output_type": "stream",
     "text": [
      "127.0.0.1 - - [31/Aug/2023 17:02:14] \"GET / HTTP/1.1\" 200 -\n",
      "127.0.0.1 - - [31/Aug/2023 17:02:14] \"GET /static/bg.jpg HTTP/1.1\" 304 -\n",
      "127.0.0.1 - - [31/Aug/2023 17:02:18] \"POST /predict HTTP/1.1\" 200 -\n",
      "127.0.0.1 - - [31/Aug/2023 17:02:18] \"GET /static/bg.jpg HTTP/1.1\" 304 -\n",
      "127.0.0.1 - - [31/Aug/2023 17:02:18] \"GET /static/uploads/2.jpg HTTP/1.1\" 200 -\n"
     ]
    },
    {
     "name": "stdout",
     "output_type": "stream",
     "text": [
      "39.56%\n"
     ]
    },
    {
     "name": "stderr",
     "output_type": "stream",
     "text": [
      "127.0.0.1 - - [31/Aug/2023 17:02:21] \"GET / HTTP/1.1\" 200 -\n",
      "127.0.0.1 - - [31/Aug/2023 17:02:21] \"GET /static/bg.jpg HTTP/1.1\" 304 -\n",
      "127.0.0.1 - - [31/Aug/2023 17:02:29] \"POST /predict HTTP/1.1\" 200 -\n",
      "127.0.0.1 - - [31/Aug/2023 17:02:29] \"GET /static/bg.jpg HTTP/1.1\" 304 -\n",
      "127.0.0.1 - - [31/Aug/2023 17:02:29] \"GET /static/uploads/12.jpg HTTP/1.1\" 200 -\n"
     ]
    },
    {
     "name": "stdout",
     "output_type": "stream",
     "text": [
      "87.39%\n"
     ]
    },
    {
     "name": "stderr",
     "output_type": "stream",
     "text": [
      "127.0.0.1 - - [31/Aug/2023 17:02:30] \"GET / HTTP/1.1\" 200 -\n",
      "127.0.0.1 - - [31/Aug/2023 17:02:30] \"GET /static/bg.jpg HTTP/1.1\" 304 -\n",
      "127.0.0.1 - - [31/Aug/2023 17:02:40] \"POST /predict HTTP/1.1\" 200 -\n",
      "127.0.0.1 - - [31/Aug/2023 17:02:40] \"GET /static/bg.jpg HTTP/1.1\" 304 -\n",
      "127.0.0.1 - - [31/Aug/2023 17:02:40] \"GET /static/uploads/12.jpg HTTP/1.1\" 304 -\n"
     ]
    },
    {
     "name": "stdout",
     "output_type": "stream",
     "text": [
      "87.39%\n"
     ]
    },
    {
     "name": "stderr",
     "output_type": "stream",
     "text": [
      "127.0.0.1 - - [31/Aug/2023 17:02:43] \"GET / HTTP/1.1\" 200 -\n",
      "127.0.0.1 - - [31/Aug/2023 17:02:43] \"GET /static/bg.jpg HTTP/1.1\" 304 -\n",
      "127.0.0.1 - - [31/Aug/2023 17:02:48] \"POST /predict HTTP/1.1\" 200 -\n",
      "127.0.0.1 - - [31/Aug/2023 17:02:48] \"GET /static/uploads/gf.jpg HTTP/1.1\" 404 -\n",
      "127.0.0.1 - - [31/Aug/2023 17:02:48] \"GET /static/bg.jpg HTTP/1.1\" 304 -\n"
     ]
    },
    {
     "name": "stdout",
     "output_type": "stream",
     "text": [
      "30.16%\n"
     ]
    },
    {
     "name": "stderr",
     "output_type": "stream",
     "text": [
      "127.0.0.1 - - [31/Aug/2023 17:02:49] \"GET / HTTP/1.1\" 200 -\n",
      "127.0.0.1 - - [31/Aug/2023 17:02:49] \"GET /static/bg.jpg HTTP/1.1\" 304 -\n",
      "127.0.0.1 - - [31/Aug/2023 17:02:53] \"POST /predict HTTP/1.1\" 200 -\n",
      "127.0.0.1 - - [31/Aug/2023 17:02:53] \"GET /static/bg.jpg HTTP/1.1\" 304 -\n",
      "127.0.0.1 - - [31/Aug/2023 17:02:53] \"GET /static/uploads/15.jpg HTTP/1.1\" 200 -\n"
     ]
    },
    {
     "name": "stdout",
     "output_type": "stream",
     "text": [
      "85.28%\n"
     ]
    },
    {
     "name": "stderr",
     "output_type": "stream",
     "text": [
      "127.0.0.1 - - [31/Aug/2023 17:02:55] \"GET / HTTP/1.1\" 200 -\n",
      "127.0.0.1 - - [31/Aug/2023 17:02:55] \"GET /static/bg.jpg HTTP/1.1\" 304 -\n",
      "127.0.0.1 - - [31/Aug/2023 17:03:03] \"POST /predict HTTP/1.1\" 200 -\n",
      "127.0.0.1 - - [31/Aug/2023 17:03:03] \"GET /static/bg.jpg HTTP/1.1\" 304 -\n",
      "127.0.0.1 - - [31/Aug/2023 17:03:03] \"GET /static/uploads/3.8.jpg HTTP/1.1\" 200 -\n"
     ]
    },
    {
     "name": "stdout",
     "output_type": "stream",
     "text": [
      "61.06%\n"
     ]
    },
    {
     "name": "stderr",
     "output_type": "stream",
     "text": [
      "127.0.0.1 - - [31/Aug/2023 17:03:04] \"GET / HTTP/1.1\" 200 -\n",
      "127.0.0.1 - - [31/Aug/2023 17:03:04] \"GET /static/bg.jpg HTTP/1.1\" 304 -\n",
      "127.0.0.1 - - [31/Aug/2023 17:03:07] \"POST /predict HTTP/1.1\" 200 -\n",
      "127.0.0.1 - - [31/Aug/2023 17:03:07] \"GET /static/uploads/3.16.jpg HTTP/1.1\" 404 -\n",
      "127.0.0.1 - - [31/Aug/2023 17:03:07] \"GET /static/bg.jpg HTTP/1.1\" 304 -\n"
     ]
    },
    {
     "name": "stdout",
     "output_type": "stream",
     "text": [
      "61.06%\n"
     ]
    },
    {
     "name": "stderr",
     "output_type": "stream",
     "text": [
      "127.0.0.1 - - [31/Aug/2023 17:03:08] \"GET / HTTP/1.1\" 200 -\n",
      "127.0.0.1 - - [31/Aug/2023 17:03:08] \"GET /static/bg.jpg HTTP/1.1\" 304 -\n",
      "127.0.0.1 - - [31/Aug/2023 17:03:12] \"POST /predict HTTP/1.1\" 200 -\n",
      "127.0.0.1 - - [31/Aug/2023 17:03:12] \"GET /static/bg.jpg HTTP/1.1\" 304 -\n",
      "127.0.0.1 - - [31/Aug/2023 17:03:12] \"GET /static/uploads/6.12.jpg HTTP/1.1\" 200 -\n"
     ]
    },
    {
     "name": "stdout",
     "output_type": "stream",
     "text": [
      "38.53%\n"
     ]
    },
    {
     "name": "stderr",
     "output_type": "stream",
     "text": [
      "127.0.0.1 - - [31/Aug/2023 17:03:14] \"GET / HTTP/1.1\" 200 -\n",
      "127.0.0.1 - - [31/Aug/2023 17:03:14] \"GET /static/bg.jpg HTTP/1.1\" 304 -\n",
      "127.0.0.1 - - [31/Aug/2023 17:03:20] \"POST /predict HTTP/1.1\" 200 -\n",
      "127.0.0.1 - - [31/Aug/2023 17:03:20] \"GET /static/uploads/6.22.jpg HTTP/1.1\" 404 -\n",
      "127.0.0.1 - - [31/Aug/2023 17:03:20] \"GET /static/bg.jpg HTTP/1.1\" 304 -\n"
     ]
    },
    {
     "name": "stdout",
     "output_type": "stream",
     "text": [
      "38.53%\n"
     ]
    },
    {
     "name": "stderr",
     "output_type": "stream",
     "text": [
      "127.0.0.1 - - [31/Aug/2023 17:03:20] \"GET / HTTP/1.1\" 200 -\n",
      "127.0.0.1 - - [31/Aug/2023 17:03:20] \"GET /static/bg.jpg HTTP/1.1\" 304 -\n",
      "127.0.0.1 - - [31/Aug/2023 17:03:24] \"POST /predict HTTP/1.1\" 200 -\n",
      "127.0.0.1 - - [31/Aug/2023 17:03:24] \"GET /static/bg.jpg HTTP/1.1\" 304 -\n",
      "127.0.0.1 - - [31/Aug/2023 17:03:24] \"GET /static/uploads/3.1.jpg HTTP/1.1\" 200 -\n"
     ]
    },
    {
     "name": "stdout",
     "output_type": "stream",
     "text": [
      "80.86%\n"
     ]
    },
    {
     "name": "stderr",
     "output_type": "stream",
     "text": [
      "127.0.0.1 - - [31/Aug/2023 17:03:25] \"GET / HTTP/1.1\" 200 -\n",
      "127.0.0.1 - - [31/Aug/2023 17:03:25] \"GET /static/bg.jpg HTTP/1.1\" 304 -\n",
      "127.0.0.1 - - [31/Aug/2023 17:03:30] \"POST /predict HTTP/1.1\" 200 -\n",
      "127.0.0.1 - - [31/Aug/2023 17:03:30] \"GET /static/bg.jpg HTTP/1.1\" 304 -\n",
      "127.0.0.1 - - [31/Aug/2023 17:03:30] \"GET /static/uploads/6.16.jpg HTTP/1.1\" 200 -\n"
     ]
    },
    {
     "name": "stdout",
     "output_type": "stream",
     "text": [
      "54.15%\n"
     ]
    },
    {
     "name": "stderr",
     "output_type": "stream",
     "text": [
      "127.0.0.1 - - [31/Aug/2023 17:03:31] \"GET / HTTP/1.1\" 200 -\n",
      "127.0.0.1 - - [31/Aug/2023 17:03:31] \"GET /static/bg.jpg HTTP/1.1\" 304 -\n",
      "127.0.0.1 - - [31/Aug/2023 17:03:36] \"POST /predict HTTP/1.1\" 200 -\n",
      "127.0.0.1 - - [31/Aug/2023 17:03:36] \"GET /static/bg.jpg HTTP/1.1\" 304 -\n",
      "127.0.0.1 - - [31/Aug/2023 17:03:36] \"GET /static/uploads/3.43.jpg HTTP/1.1\" 200 -\n"
     ]
    },
    {
     "name": "stdout",
     "output_type": "stream",
     "text": [
      "60.49%\n"
     ]
    },
    {
     "name": "stderr",
     "output_type": "stream",
     "text": [
      "127.0.0.1 - - [31/Aug/2023 17:03:39] \"GET / HTTP/1.1\" 200 -\n",
      "127.0.0.1 - - [31/Aug/2023 17:03:39] \"GET /static/bg.jpg HTTP/1.1\" 304 -\n",
      "127.0.0.1 - - [31/Aug/2023 17:03:46] \"POST /predict HTTP/1.1\" 200 -\n",
      "127.0.0.1 - - [31/Aug/2023 17:03:46] \"GET /static/uploads/6.14.jpg HTTP/1.1\" 404 -\n",
      "127.0.0.1 - - [31/Aug/2023 17:03:46] \"GET /static/bg.jpg HTTP/1.1\" 304 -\n"
     ]
    },
    {
     "name": "stdout",
     "output_type": "stream",
     "text": [
      "72.12%\n"
     ]
    },
    {
     "name": "stderr",
     "output_type": "stream",
     "text": [
      "127.0.0.1 - - [31/Aug/2023 17:03:47] \"GET / HTTP/1.1\" 200 -\n",
      "127.0.0.1 - - [31/Aug/2023 17:03:47] \"GET /static/bg.jpg HTTP/1.1\" 304 -\n",
      "127.0.0.1 - - [31/Aug/2023 17:03:53] \"POST /predict HTTP/1.1\" 200 -\n",
      "127.0.0.1 - - [31/Aug/2023 17:03:53] \"GET /static/bg.jpg HTTP/1.1\" 304 -\n",
      "127.0.0.1 - - [31/Aug/2023 17:03:53] \"GET /static/uploads/6.13.jpg HTTP/1.1\" 200 -\n"
     ]
    },
    {
     "name": "stdout",
     "output_type": "stream",
     "text": [
      "38.53%\n"
     ]
    },
    {
     "name": "stderr",
     "output_type": "stream",
     "text": [
      "127.0.0.1 - - [31/Aug/2023 17:04:00] \"GET / HTTP/1.1\" 200 -\n",
      "127.0.0.1 - - [31/Aug/2023 17:04:00] \"GET /static/bg.jpg HTTP/1.1\" 304 -\n",
      "127.0.0.1 - - [31/Aug/2023 17:04:11] \"POST /predict HTTP/1.1\" 200 -\n",
      "127.0.0.1 - - [31/Aug/2023 17:04:11] \"GET /static/uploads/6.23.jpg HTTP/1.1\" 404 -\n",
      "127.0.0.1 - - [31/Aug/2023 17:04:11] \"GET /static/bg.jpg HTTP/1.1\" 304 -\n"
     ]
    },
    {
     "name": "stdout",
     "output_type": "stream",
     "text": [
      "72.12%\n"
     ]
    },
    {
     "name": "stderr",
     "output_type": "stream",
     "text": [
      "127.0.0.1 - - [31/Aug/2023 17:04:12] \"GET / HTTP/1.1\" 200 -\n",
      "127.0.0.1 - - [31/Aug/2023 17:04:12] \"GET /static/bg.jpg HTTP/1.1\" 304 -\n",
      "127.0.0.1 - - [31/Aug/2023 17:04:16] \"POST /predict HTTP/1.1\" 200 -\n",
      "127.0.0.1 - - [31/Aug/2023 17:04:16] \"GET /static/uploads/6.24.jpg HTTP/1.1\" 404 -\n",
      "127.0.0.1 - - [31/Aug/2023 17:04:16] \"GET /static/bg.jpg HTTP/1.1\" 304 -\n"
     ]
    },
    {
     "name": "stdout",
     "output_type": "stream",
     "text": [
      "72.12%\n"
     ]
    },
    {
     "name": "stderr",
     "output_type": "stream",
     "text": [
      "127.0.0.1 - - [31/Aug/2023 17:04:16] \"GET / HTTP/1.1\" 200 -\n",
      "127.0.0.1 - - [31/Aug/2023 17:04:16] \"GET /static/bg.jpg HTTP/1.1\" 304 -\n",
      "127.0.0.1 - - [31/Aug/2023 17:04:22] \"POST /predict HTTP/1.1\" 200 -\n",
      "127.0.0.1 - - [31/Aug/2023 17:04:22] \"GET /static/uploads/6.16.jpg HTTP/1.1\" 304 -\n",
      "127.0.0.1 - - [31/Aug/2023 17:04:22] \"GET /static/bg.jpg HTTP/1.1\" 304 -\n"
     ]
    },
    {
     "name": "stdout",
     "output_type": "stream",
     "text": [
      "54.15%\n"
     ]
    }
   ],
   "source": [
    "from flask import Flask, request, render_template\n",
    "import torch\n",
    "import torchvision\n",
    "from torchvision import transforms\n",
    "import matplotlib.pyplot as plt\n",
    "import glob\n",
    "\n",
    "device = torch.device('cuda' if torch.cuda.is_available() else 'cpu')\n",
    "from typing import List, Tuple\n",
    "\n",
    "from PIL import Image\n",
    "model1 = pretrained_vit\n",
    "app = Flask(__name__)\n",
    "UPLOAD_FOLDER='uploads/all_class'\n",
    "\n",
    "@app.route('/')\n",
    "def index():\n",
    "    return render_template('index.html')\n",
    "\n",
    "\n",
    "@app.route('/predict', methods=['GET','POST'])\n",
    "def predict():\n",
    "    device = torch.device('cuda' if torch.cuda.is_available() else 'cpu')\n",
    "    filelist=glob.glob('uploads/all_class/*.*')\n",
    "    for filePath in filelist:\n",
    "      try:\n",
    "         os.remove(filePath)\n",
    "      except:\n",
    "         print(\"Error While Deleting File\")\n",
    "    data = request.files['image']\n",
    "    \n",
    "    image_path = os.path.join('uploads/all_class', data.filename)\n",
    "    data.save(image_path)\n",
    "    if image_path.lower().endswith('.png'):\n",
    "        jpg_image_path = os.path.splitext(image_path)[0] + '.jpg'\n",
    "        img = Image.open(image_path)\n",
    "        img = img.convert(\"RGB\")  \n",
    "        img.save(jpg_image_path, \"JPEG\")\n",
    "        image_path = jpg_image_path\n",
    "\n",
    "    \n",
    "    image_filename = data.filename\n",
    "    \n",
    "    img = Image.open(image_path)\n",
    "\n",
    "    img = img.resize((224,224))\n",
    "    class_names = ['Tiretread_1.5mm','Tiretread_4mm','Tiretread_6mm','Tiretread_8mm']\n",
    "    model = model1\n",
    "    image_size: Tuple[int, int] = (224, 224)\n",
    "    transform: torchvision.transforms = None\n",
    "    device: torch.device = device\n",
    "    if transform is not None:\n",
    "            image_transform = transform\n",
    "    else:\n",
    "            image_transform = transforms.Compose(\n",
    "                [\n",
    "                    transforms.Resize(image_size),\n",
    "                    transforms.ToTensor(),\n",
    "                    transforms.Normalize(\n",
    "                        mean=[0.485, 0.456, 0.406], std=[0.229, 0.224, 0.225]\n",
    "                    ),\n",
    "                ]\n",
    "            )\n",
    "\n",
    "\n",
    "    model.to(device)\n",
    "\n",
    "    model.eval()\n",
    "    with torch.inference_mode():\n",
    "            transformed_image = image_transform(img).unsqueeze(dim=0)\n",
    "\n",
    "            target_image_pred = model(transformed_image.to(device))\n",
    "\n",
    "    target_image_pred_probs = torch.softmax(target_image_pred, dim=1)\n",
    "\n",
    "    target_image_pred_label = torch.argmax(target_image_pred_probs, dim=1)\n",
    "    prob_ab = target_image_pred_probs.max()\n",
    "    percentage = prob_ab * 100\n",
    "\n",
    "    value = f\"{percentage:.2f}%\"\n",
    "    print(value)\n",
    "    \n",
    "    if prob_ab > 0.42:\n",
    "        return render_template('predict.html', classs=class_names[target_image_pred_label], prob=value, image_filename=image_filename)\n",
    "    else:\n",
    "        return render_template('predict.html', classs='Not a Tire', prob='0%', image_filename=image_filename)\n",
    "          \n",
    "    \n",
    "    \n",
    "\n",
    "if __name__ == '__main__':\n",
    "    app.run(debug=False, port=900)\n"
   ]
  },
  {
   "cell_type": "code",
   "execution_count": null,
   "id": "055765e4",
   "metadata": {},
   "outputs": [],
   "source": []
  }
 ],
 "metadata": {
  "kernelspec": {
   "display_name": "Python 3 (ipykernel)",
   "language": "python",
   "name": "python3"
  },
  "language_info": {
   "codemirror_mode": {
    "name": "ipython",
    "version": 3
   },
   "file_extension": ".py",
   "mimetype": "text/x-python",
   "name": "python",
   "nbconvert_exporter": "python",
   "pygments_lexer": "ipython3",
   "version": "3.11.3"
  }
 },
 "nbformat": 4,
 "nbformat_minor": 5
}
